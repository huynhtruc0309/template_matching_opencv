{
 "cells": [
  {
   "cell_type": "code",
   "execution_count": 1,
   "id": "f5fd0295",
   "metadata": {},
   "outputs": [
    {
     "name": "stdout",
     "output_type": "stream",
     "text": [
      "current dir: /media/huynhtruc0309/DATA/vtcc/CPP/TEMPLATE_MATCHING/template_matching_opencv/runs\n",
      "changed dir: /media/huynhtruc0309/DATA/vtcc/CPP/TEMPLATE_MATCHING/template_matching_opencv\n"
     ]
    }
   ],
   "source": [
    "import os\n",
    "print(f'current dir: {os.getcwd()}')\n",
    "os.chdir('/media/huynhtruc0309/DATA/vtcc/CPP/TEMPLATE_MATCHING/template_matching_opencv')\n",
    "print(f'changed dir: {os.getcwd()}')"
   ]
  },
  {
   "cell_type": "code",
   "execution_count": 2,
   "id": "d74f4a27",
   "metadata": {},
   "outputs": [],
   "source": [
    "import cv2\n",
    "import utils\n",
    "from pathlib import Path\n",
    "import random\n",
    "from MTM import drawBoxesOnRGB"
   ]
  },
  {
   "cell_type": "code",
   "execution_count": 3,
   "id": "f2c830c0",
   "metadata": {},
   "outputs": [
    {
     "name": "stdout",
     "output_type": "stream",
     "text": [
      "templates/1_CPP_Page1/1/33020-page1.jpg\n",
      "templates/1_CPP_Page1/2/1. NN-34241-page1.jpg\n",
      "templates/1_CPP_Page1/5/33060-page1.jpg\n",
      "templates/1_CPP_Page1/6/33060-page1.jpg\n",
      "templates/1_CPP_Page1/23/VN-15477-12-CPP1665CV30.8.2019-page1.jpg\n",
      "templates/1_CPP_Page1/24/35.NN-34242-page1.jpg\n",
      "templates/1_CPP_Page1/26/33060-page1.jpg\n"
     ]
    }
   ],
   "source": [
    "config = utils.load_yaml('./modules/multi_template_matching/config.yaml')\n",
    "matcher = utils.create_instance(config['mtm_opencv'])"
   ]
  },
  {
   "cell_type": "code",
   "execution_count": 4,
   "id": "67485094",
   "metadata": {},
   "outputs": [
    {
     "name": "stdout",
     "output_type": "stream",
     "text": [
      "86\n"
     ]
    }
   ],
   "source": [
    "image_dir = Path('/media/huynhtruc0309/DATA/vtcc/CPP/TEMPLATE_MATCHING/GD2/1. CPP/85_Switzerland_equal/total/1_CPP_Page1')\n",
    "output_dir = Path('output')\n",
    "image_paths = list(image_dir.glob('**/*.jpg'))\n",
    "random.shuffle(image_paths)\n",
    "print(len(image_paths))"
   ]
  },
  {
   "cell_type": "code",
   "execution_count": null,
   "id": "315e6541",
   "metadata": {},
   "outputs": [
    {
     "name": "stdout",
     "output_type": "stream",
     "text": [
      "  TemplateName                   BBox     Score\n",
      "0            1    (257, 150, 363, 83)  0.912471\n",
      "1            2    (651, 368, 778, 48)  0.384091\n",
      "2            5    (426, 848, 546, 70)  0.579098\n",
      "3            6    (415, 989, 702, 58)  0.475148\n",
      "4           23  (407, 1180, 1175, 73)  0.656413\n",
      "5           24   (227, 1554, 823, 70)  0.294670\n",
      "6           26   (429, 1574, 596, 40)  0.486468\n",
      "  TemplateName               BBox     Score\n",
      "0            1    (0, 0, 121, 83)  0.706177\n",
      "1            1  (122, 0, 121, 83)  0.924702\n",
      "2            1  (242, 0, 121, 83)  0.942437\n",
      "Score each split 0.8577722311019897\n",
      "> \u001b[0;32m/media/huynhtruc0309/DATA/vtcc/CPP/TEMPLATE_MATCHING/template_matching_opencv/modules/multi_template_matching/multi_template_matching.py\u001b[0m(67)\u001b[0;36m__call__\u001b[0;34m()\u001b[0m\n",
      "\u001b[0;32m     65 \u001b[0;31m                    \u001b[0mprint\u001b[0m\u001b[0;34m(\u001b[0m\u001b[0;34m'Score each split'\u001b[0m\u001b[0;34m,\u001b[0m \u001b[0mscore\u001b[0m\u001b[0;34m)\u001b[0m\u001b[0;34m\u001b[0m\u001b[0;34m\u001b[0m\u001b[0m\n",
      "\u001b[0m\u001b[0;32m     66 \u001b[0;31m                    \u001b[0;32mimport\u001b[0m \u001b[0mpdb\u001b[0m\u001b[0;34m;\u001b[0m \u001b[0mpdb\u001b[0m\u001b[0;34m.\u001b[0m\u001b[0mset_trace\u001b[0m\u001b[0;34m(\u001b[0m\u001b[0;34m)\u001b[0m\u001b[0;34m\u001b[0m\u001b[0;34m\u001b[0m\u001b[0m\n",
      "\u001b[0m\u001b[0;32m---> 67 \u001b[0;31m                    \u001b[0mHits\u001b[0m\u001b[0;34m.\u001b[0m\u001b[0mloc\u001b[0m\u001b[0;34m[\u001b[0m\u001b[0mindex\u001b[0m\u001b[0;34m,\u001b[0m \u001b[0;34m'Score'\u001b[0m\u001b[0;34m]\u001b[0m \u001b[0;34m=\u001b[0m \u001b[0mscore\u001b[0m\u001b[0;34m\u001b[0m\u001b[0;34m\u001b[0m\u001b[0m\n",
      "\u001b[0m\u001b[0;32m     68 \u001b[0;31m\u001b[0;34m\u001b[0m\u001b[0m\n",
      "\u001b[0m\u001b[0;32m     69 \u001b[0;31m                    \u001b[0mOverlay\u001b[0m \u001b[0;34m=\u001b[0m \u001b[0mdrawBoxesOnRGB\u001b[0m\u001b[0;34m(\u001b[0m\u001b[0mimage\u001b[0m\u001b[0;34m[\u001b[0m\u001b[0my\u001b[0m\u001b[0;34m:\u001b[0m\u001b[0my\u001b[0m\u001b[0;34m+\u001b[0m\u001b[0mw\u001b[0m\u001b[0;34m,\u001b[0m \u001b[0mx\u001b[0m\u001b[0;34m:\u001b[0m\u001b[0mx\u001b[0m\u001b[0;34m+\u001b[0m\u001b[0mh\u001b[0m\u001b[0;34m]\u001b[0m\u001b[0;34m,\u001b[0m \u001b[0msplitedHits\u001b[0m\u001b[0;34m,\u001b[0m \u001b[0mshowLabel\u001b[0m\u001b[0;34m=\u001b[0m\u001b[0;32mTrue\u001b[0m\u001b[0;34m,\u001b[0m \u001b[0mboxColor\u001b[0m\u001b[0;34m=\u001b[0m\u001b[0;34m(\u001b[0m\u001b[0;36m255\u001b[0m\u001b[0;34m,\u001b[0m \u001b[0;36m0\u001b[0m\u001b[0;34m,\u001b[0m \u001b[0;36m0\u001b[0m\u001b[0;34m)\u001b[0m\u001b[0;34m)\u001b[0m\u001b[0;34m\u001b[0m\u001b[0;34m\u001b[0m\u001b[0m\n",
      "\u001b[0m\n"
     ]
    },
    {
     "name": "stdin",
     "output_type": "stream",
     "text": [
      "ipdb>  Hits\n"
     ]
    },
    {
     "name": "stdout",
     "output_type": "stream",
     "text": [
      "  TemplateName                   BBox     Score\n",
      "0            1    (257, 150, 363, 83)  0.912471\n",
      "1            2    (651, 368, 778, 48)  0.384091\n",
      "2            5    (426, 848, 546, 70)  0.579098\n",
      "3            6    (415, 989, 702, 58)  0.475148\n",
      "4           23  (407, 1180, 1175, 73)  0.656413\n",
      "5           24   (227, 1554, 823, 70)  0.294670\n",
      "6           26   (429, 1574, 596, 40)  0.486468\n"
     ]
    },
    {
     "name": "stdin",
     "output_type": "stream",
     "text": [
      "ipdb>  index\n"
     ]
    },
    {
     "name": "stdout",
     "output_type": "stream",
     "text": [
      "0\n"
     ]
    },
    {
     "name": "stdin",
     "output_type": "stream",
     "text": [
      "ipdb>  n\n"
     ]
    },
    {
     "name": "stdout",
     "output_type": "stream",
     "text": [
      "> \u001b[0;32m/media/huynhtruc0309/DATA/vtcc/CPP/TEMPLATE_MATCHING/template_matching_opencv/modules/multi_template_matching/multi_template_matching.py\u001b[0m(69)\u001b[0;36m__call__\u001b[0;34m()\u001b[0m\n",
      "\u001b[0;32m     67 \u001b[0;31m                    \u001b[0mHits\u001b[0m\u001b[0;34m.\u001b[0m\u001b[0mloc\u001b[0m\u001b[0;34m[\u001b[0m\u001b[0mindex\u001b[0m\u001b[0;34m,\u001b[0m \u001b[0;34m'Score'\u001b[0m\u001b[0;34m]\u001b[0m \u001b[0;34m=\u001b[0m \u001b[0mscore\u001b[0m\u001b[0;34m\u001b[0m\u001b[0;34m\u001b[0m\u001b[0m\n",
      "\u001b[0m\u001b[0;32m     68 \u001b[0;31m\u001b[0;34m\u001b[0m\u001b[0m\n",
      "\u001b[0m\u001b[0;32m---> 69 \u001b[0;31m                    \u001b[0mOverlay\u001b[0m \u001b[0;34m=\u001b[0m \u001b[0mdrawBoxesOnRGB\u001b[0m\u001b[0;34m(\u001b[0m\u001b[0mimage\u001b[0m\u001b[0;34m[\u001b[0m\u001b[0my\u001b[0m\u001b[0;34m:\u001b[0m\u001b[0my\u001b[0m\u001b[0;34m+\u001b[0m\u001b[0mw\u001b[0m\u001b[0;34m,\u001b[0m \u001b[0mx\u001b[0m\u001b[0;34m:\u001b[0m\u001b[0mx\u001b[0m\u001b[0;34m+\u001b[0m\u001b[0mh\u001b[0m\u001b[0;34m]\u001b[0m\u001b[0;34m,\u001b[0m \u001b[0msplitedHits\u001b[0m\u001b[0;34m,\u001b[0m \u001b[0mshowLabel\u001b[0m\u001b[0;34m=\u001b[0m\u001b[0;32mTrue\u001b[0m\u001b[0;34m,\u001b[0m \u001b[0mboxColor\u001b[0m\u001b[0;34m=\u001b[0m\u001b[0;34m(\u001b[0m\u001b[0;36m255\u001b[0m\u001b[0;34m,\u001b[0m \u001b[0;36m0\u001b[0m\u001b[0;34m,\u001b[0m \u001b[0;36m0\u001b[0m\u001b[0;34m)\u001b[0m\u001b[0;34m)\u001b[0m\u001b[0;34m\u001b[0m\u001b[0;34m\u001b[0m\u001b[0m\n",
      "\u001b[0m\u001b[0;32m     70 \u001b[0;31m                    \u001b[0mcv2\u001b[0m\u001b[0;34m.\u001b[0m\u001b[0mimshow\u001b[0m\u001b[0;34m(\u001b[0m\u001b[0;34m'splitedHits'\u001b[0m\u001b[0;34m,\u001b[0m \u001b[0mOverlay\u001b[0m\u001b[0;34m)\u001b[0m\u001b[0;34m\u001b[0m\u001b[0;34m\u001b[0m\u001b[0m\n",
      "\u001b[0m\u001b[0;32m     71 \u001b[0;31m                    \u001b[0mcv2\u001b[0m\u001b[0;34m.\u001b[0m\u001b[0mwaitKey\u001b[0m\u001b[0;34m(\u001b[0m\u001b[0;34m)\u001b[0m\u001b[0;34m\u001b[0m\u001b[0;34m\u001b[0m\u001b[0m\n",
      "\u001b[0m\n"
     ]
    },
    {
     "name": "stdin",
     "output_type": "stream",
     "text": [
      "ipdb>  Hits\n"
     ]
    },
    {
     "name": "stdout",
     "output_type": "stream",
     "text": [
      "  TemplateName                   BBox     Score\n",
      "0            1    (257, 150, 363, 83)  0.857772\n",
      "1            2    (651, 368, 778, 48)  0.384091\n",
      "2            5    (426, 848, 546, 70)  0.579098\n",
      "3            6    (415, 989, 702, 58)  0.475148\n",
      "4           23  (407, 1180, 1175, 73)  0.656413\n",
      "5           24   (227, 1554, 823, 70)  0.294670\n",
      "6           26   (429, 1574, 596, 40)  0.486468\n"
     ]
    },
    {
     "name": "stdin",
     "output_type": "stream",
     "text": [
      "ipdb>  score\n"
     ]
    },
    {
     "name": "stdout",
     "output_type": "stream",
     "text": [
      "0.8577722311019897\n",
      "--KeyboardInterrupt--\n",
      "\n",
      "KeyboardInterrupt: Interrupted by user\n"
     ]
    }
   ],
   "source": [
    "image_path = '/media/huynhtruc0309/DATA/vtcc/CPP/TEMPLATE_MATCHING/GD2/1. CPP/85_Switzerland_equal/total/1_CPP_Page1/28.NN-33178-page1.jpg'\n",
    "image = cv2.imread(str(image_path))\n",
    "Hit = matcher(image)"
   ]
  },
  {
   "cell_type": "code",
   "execution_count": null,
   "id": "b7164b7f",
   "metadata": {},
   "outputs": [
    {
     "name": "stdout",
     "output_type": "stream",
     "text": [
      "/media/huynhtruc0309/DATA/vtcc/CPP/TEMPLATE_MATCHING/GD2/1. CPP/85_Switzerland_equal/total/1_CPP_Page1/28.NN-33178-page1.jpg\n",
      "****************************************\n",
      "  TemplateName                   BBox     Score\n",
      "0            1    (257, 150, 363, 83)  0.912471\n",
      "0            2    (651, 368, 778, 48)  0.384091\n",
      "0            5    (426, 848, 546, 70)  0.579098\n",
      "0            6    (415, 989, 702, 58)  0.475148\n",
      "0           23  (407, 1180, 1175, 73)  0.656413\n",
      "0           24   (227, 1554, 823, 70)  0.294670\n",
      "0           26   (429, 1574, 596, 40)  0.486468\n",
      "  TemplateName               BBox     Score\n",
      "0            1    (0, 0, 121, 83)  0.706177\n",
      "0            1  (122, 0, 121, 83)  0.924702\n",
      "0            1  (242, 0, 121, 83)  0.942437\n",
      "Score each split 0.8577722311019897\n",
      "  TemplateName               BBox     Score\n",
      "0            2  (148, 0, 259, 48)  0.399186\n",
      "0            2  (308, 0, 259, 48)  0.547361\n",
      "0            2  (446, 0, 259, 48)  0.464703\n",
      "0            2    (562, 0, 1, 48)  0.486116\n",
      "Score each split 0.4743415117263794\n",
      "  TemplateName               BBox     Score\n",
      "0            5  (163, 0, 182, 70)  0.432720\n",
      "0            5  (183, 0, 182, 70)  0.794553\n",
      "0            5  (364, 0, 182, 70)  0.671698\n",
      "Score each split 0.63299028078715\n",
      "  TemplateName               BBox     Score\n",
      "0            6  (361, 0, 234, 58)  0.437012\n",
      "0            6  (234, 0, 234, 58)  0.749478\n",
      "0            6   (71, 0, 234, 58)  0.428756\n",
      "Score each split 0.5384154220422109\n",
      "  TemplateName               BBox     Score\n",
      "0           23    (1, 0, 391, 73)  0.719240\n",
      "0           23  (392, 0, 391, 73)  0.836975\n",
      "0           23  (782, 0, 391, 73)  0.463948\n",
      "0           23   (1152, 0, 2, 73)  0.159735\n",
      "Score each split 0.5449746996164322\n",
      "  TemplateName               BBox     Score\n",
      "0           24  (406, 0, 274, 70)  0.314351\n",
      "0           24  (299, 0, 274, 70)  0.462472\n",
      "0           24  (177, 0, 274, 70)  0.392882\n",
      "0           24    (273, 0, 1, 70)  0.113174\n",
      "Score each split 0.32071964256465435\n",
      "  TemplateName               BBox     Score\n",
      "0           26  (285, 0, 198, 40)  0.398430\n",
      "0           26  (197, 0, 198, 40)  0.678799\n",
      "0           26  (396, 0, 198, 40)  0.539962\n",
      "0           26     (71, 0, 2, 40)  0.245828\n",
      "Score each split 0.46575502306222916\n",
      "/media/huynhtruc0309/DATA/vtcc/CPP/TEMPLATE_MATCHING/GD2/1. CPP/85_Switzerland_equal/total/1_CPP_Page1/NN33640-page1.jpg\n",
      "****************************************\n",
      "  TemplateName                   BBox     Score\n",
      "0            1    (243, 189, 363, 83)  0.925414\n",
      "0            2    (549, 405, 778, 48)  0.383270\n",
      "0            5    (410, 884, 546, 70)  0.589901\n",
      "0            6   (399, 1039, 702, 58)  0.498439\n",
      "0           23  (392, 1229, 1175, 73)  0.722341\n",
      "0           24   (235, 1603, 823, 70)  0.298404\n",
      "0           26   (412, 1624, 596, 40)  0.516823\n",
      "  TemplateName               BBox     Score\n",
      "0            1    (0, 0, 121, 83)  0.691752\n",
      "0            1  (121, 0, 121, 83)  0.920794\n",
      "0            1  (242, 0, 121, 83)  0.958618\n",
      "Score each split 0.8570547898610433\n",
      "  TemplateName               BBox     Score\n",
      "0            2    (0, 0, 259, 48)  0.362433\n",
      "0            2  (394, 0, 259, 48)  0.500080\n",
      "0            2  (368, 0, 259, 48)  0.472684\n",
      "0            2    (461, 0, 1, 48)  0.655731\n",
      "Score each split 0.497732013463974\n",
      "  TemplateName               BBox     Score\n",
      "0            5  (163, 0, 182, 70)  0.449678\n",
      "0            5  (182, 0, 182, 70)  0.809364\n",
      "0            5  (364, 0, 182, 70)  0.653041\n",
      "Score each split 0.6373606820901235\n",
      "  TemplateName               BBox     Score\n",
      "0            6  (361, 0, 234, 58)  0.428205\n",
      "0            6  (234, 0, 234, 58)  0.792077\n",
      "0            6   (71, 0, 234, 58)  0.411561\n",
      "Score each split 0.5439475079377493\n",
      "  TemplateName               BBox     Score\n",
      "0           23    (0, 0, 391, 73)  0.807910\n",
      "0           23  (391, 0, 391, 73)  0.884734\n",
      "0           23  (306, 0, 391, 73)  0.475615\n",
      "0           23   (1154, 0, 2, 73)  0.161484\n",
      "Score each split 0.5824356526136398\n",
      "  TemplateName               BBox     Score\n",
      "0           24  (450, 0, 274, 70)  0.359500\n",
      "0           24  (274, 0, 274, 70)  0.486872\n",
      "0           24  (185, 0, 274, 70)  0.321062\n",
      "0           24    (497, 0, 1, 70)  0.354729\n",
      "Score each split 0.38054053485393524\n",
      "  TemplateName               BBox     Score\n",
      "0           26  (356, 0, 198, 40)  0.395091\n",
      "0           26  (198, 0, 198, 40)  0.741610\n",
      "0           26  (397, 0, 198, 40)  0.515818\n",
      "0           26    (558, 0, 2, 40)  0.249103\n",
      "Score each split 0.47540536895394325\n",
      "/media/huynhtruc0309/DATA/vtcc/CPP/TEMPLATE_MATCHING/GD2/1. CPP/85_Switzerland_equal/total/1_CPP_Page1/32907-page1.jpg\n",
      "****************************************\n",
      "  TemplateName                   BBox     Score\n",
      "0            1    (229, 184, 363, 83)  0.574614\n",
      "0            2    (515, 386, 778, 48)  0.847849\n",
      "0            5    (388, 847, 546, 70)  0.475370\n",
      "0            6    (376, 979, 702, 58)  0.425784\n",
      "0           23  (336, 1200, 1175, 73)  0.343471\n",
      "0           24   (387, 1312, 823, 70)  0.425443\n",
      "0           26   (385, 1571, 596, 40)  0.408674\n",
      "  TemplateName               BBox     Score\n",
      "0            1   (10, 0, 121, 83)  0.373919\n",
      "0            1  (125, 0, 121, 83)  0.722688\n",
      "0            1  (241, 0, 121, 83)  0.849104\n",
      "Score each split 0.6485702594121298\n",
      "  TemplateName               BBox     Score\n",
      "0            2    (0, 0, 259, 48)  0.804905\n",
      "0            2  (259, 0, 259, 48)  0.915415\n",
      "0            2  (518, 0, 259, 48)  0.826622\n",
      "0            2    (352, 0, 1, 48)  0.517116\n",
      "Score each split 0.766014501452446\n",
      "  TemplateName               BBox     Score\n",
      "0            5    (1, 0, 182, 70)  0.673113\n",
      "0            5  (181, 0, 182, 70)  0.489711\n",
      "0            5  (101, 0, 182, 70)  0.487969\n",
      "Score each split 0.5502642591794332\n"
     ]
    }
   ],
   "source": [
    "for idx, image_path in enumerate(image_paths):\n",
    "#     if idx == 10:\n",
    "#         break\n",
    "    print(image_path)\n",
    "    print('**' * 20)\n",
    "    image = cv2.imread(str(image_path))\n",
    "    Hit = matcher(image)"
   ]
  },
  {
   "cell_type": "code",
   "execution_count": null,
   "id": "ee665493",
   "metadata": {},
   "outputs": [],
   "source": []
  }
 ],
 "metadata": {
  "kernelspec": {
   "display_name": "Python 3",
   "language": "python",
   "name": "python3"
  },
  "language_info": {
   "codemirror_mode": {
    "name": "ipython",
    "version": 3
   },
   "file_extension": ".py",
   "mimetype": "text/x-python",
   "name": "python",
   "nbconvert_exporter": "python",
   "pygments_lexer": "ipython3",
   "version": "3.7.9"
  }
 },
 "nbformat": 4,
 "nbformat_minor": 5
}
