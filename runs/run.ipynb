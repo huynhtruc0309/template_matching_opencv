{
 "cells": [
  {
   "cell_type": "code",
   "execution_count": 12,
   "id": "a48808f7",
   "metadata": {},
   "outputs": [
    {
     "name": "stdout",
     "output_type": "stream",
     "text": [
      "current dir: /media/huynhtruc0309/DATA/vtcc/SUBTASK/TEMPLATE_MATCHING/template_matching_opencv\n",
      "changed dir: /media/huynhtruc0309/DATA/vtcc/SUBTASK/TEMPLATE_MATCHING/template_matching_opencv\n"
     ]
    }
   ],
   "source": [
    "import os\n",
    "print(f'current dir: {os.getcwd()}')\n",
    "os.chdir('/media/huynhtruc0309/DATA/vtcc/SUBTASK/TEMPLATE_MATCHING/template_matching_opencv')\n",
    "print(f'changed dir: {os.getcwd()}')"
   ]
  },
  {
   "cell_type": "code",
   "execution_count": 13,
   "id": "41004671",
   "metadata": {},
   "outputs": [],
   "source": [
    "import cv2\n",
    "import utils\n",
    "from pathlib import Path\n",
    "import random\n",
    "from MTM import drawBoxesOnRGB"
   ]
  },
  {
   "cell_type": "code",
   "execution_count": 14,
   "id": "b1b90fbb",
   "metadata": {},
   "outputs": [
    {
     "name": "stdout",
     "output_type": "stream",
     "text": [
      "templates/3_CPP_Date/5/33195-page2.jpg\n"
     ]
    }
   ],
   "source": [
    "config = utils.load_yaml('./modules/multi_template_matching/config.yaml')\n",
    "matcher = utils.create_instance(config['mtm_opencv'])"
   ]
  },
  {
   "cell_type": "code",
   "execution_count": 16,
   "id": "7dc64fd7",
   "metadata": {},
   "outputs": [
    {
     "name": "stdout",
     "output_type": "stream",
     "text": [
      "85\n"
     ]
    }
   ],
   "source": [
    "image_dir = Path('/media/huynhtruc0309/DATA/vtcc/SUBTASK/TEMPLATE_MATCHING/GD2/1. CPP/85_Switzerland_equal/total/3_CPP_Date')\n",
    "output_dir = Path('output')\n",
    "image_paths = list(image_dir.glob('**/*.jpg'))\n",
    "random.shuffle(image_paths)\n",
    "print(len(image_paths))"
   ]
  },
  {
   "cell_type": "code",
   "execution_count": 17,
   "id": "4954f32c",
   "metadata": {},
   "outputs": [
    {
     "name": "stdout",
     "output_type": "stream",
     "text": [
      "/media/huynhtruc0309/DATA/vtcc/SUBTASK/TEMPLATE_MATCHING/GD2/1. CPP/85_Switzerland_equal/total/3_CPP_Date/NN33937_Swissmedic-page4.jpg\n",
      "****************************************\n"
     ]
    },
    {
     "ename": "AttributeError",
     "evalue": "'NoneType' object has no attribute 'dtype'",
     "output_type": "error",
     "traceback": [
      "\u001b[0;31m---------------------------------------------------------------------------\u001b[0m",
      "\u001b[0;31mAttributeError\u001b[0m                            Traceback (most recent call last)",
      "\u001b[0;32m<ipython-input-17-fbbd1c6ca414>\u001b[0m in \u001b[0;36m<module>\u001b[0;34m\u001b[0m\n\u001b[1;32m      5\u001b[0m     \u001b[0mprint\u001b[0m\u001b[0;34m(\u001b[0m\u001b[0;34m'**'\u001b[0m \u001b[0;34m*\u001b[0m \u001b[0;36m20\u001b[0m\u001b[0;34m)\u001b[0m\u001b[0;34m\u001b[0m\u001b[0;34m\u001b[0m\u001b[0m\n\u001b[1;32m      6\u001b[0m     \u001b[0mimage\u001b[0m \u001b[0;34m=\u001b[0m \u001b[0mcv2\u001b[0m\u001b[0;34m.\u001b[0m\u001b[0mimread\u001b[0m\u001b[0;34m(\u001b[0m\u001b[0mstr\u001b[0m\u001b[0;34m(\u001b[0m\u001b[0mimage_path\u001b[0m\u001b[0;34m)\u001b[0m\u001b[0;34m)\u001b[0m\u001b[0;34m\u001b[0m\u001b[0;34m\u001b[0m\u001b[0m\n\u001b[0;32m----> 7\u001b[0;31m     \u001b[0mHit\u001b[0m \u001b[0;34m=\u001b[0m \u001b[0mmatcher\u001b[0m\u001b[0;34m(\u001b[0m\u001b[0mimage\u001b[0m\u001b[0;34m)\u001b[0m\u001b[0;34m\u001b[0m\u001b[0;34m\u001b[0m\u001b[0m\n\u001b[0m\u001b[1;32m      8\u001b[0m     \u001b[0mprint\u001b[0m\u001b[0;34m(\u001b[0m\u001b[0mHit\u001b[0m\u001b[0;34m)\u001b[0m\u001b[0;34m\u001b[0m\u001b[0;34m\u001b[0m\u001b[0m\n\u001b[1;32m      9\u001b[0m     \u001b[0mOverlay\u001b[0m \u001b[0;34m=\u001b[0m \u001b[0mdrawBoxesOnRGB\u001b[0m\u001b[0;34m(\u001b[0m\u001b[0mimage\u001b[0m\u001b[0;34m,\u001b[0m \u001b[0mHit\u001b[0m\u001b[0;34m,\u001b[0m \u001b[0mshowLabel\u001b[0m\u001b[0;34m=\u001b[0m\u001b[0;32mTrue\u001b[0m\u001b[0;34m)\u001b[0m\u001b[0;34m\u001b[0m\u001b[0;34m\u001b[0m\u001b[0m\n",
      "\u001b[0;32m/media/huynhtruc0309/DATA/vtcc/SUBTASK/TEMPLATE_MATCHING/template_matching_opencv/modules/multi_template_matching/multi_template_matching.py\u001b[0m in \u001b[0;36m__call__\u001b[0;34m(self, image)\u001b[0m\n\u001b[1;32m     30\u001b[0m         \u001b[0;32mfor\u001b[0m \u001b[0mtemplate\u001b[0m \u001b[0;32min\u001b[0m \u001b[0mself\u001b[0m\u001b[0;34m.\u001b[0m\u001b[0mlistTemplate\u001b[0m\u001b[0;34m:\u001b[0m\u001b[0;34m\u001b[0m\u001b[0;34m\u001b[0m\u001b[0m\n\u001b[1;32m     31\u001b[0m             Hit = matchTemplates(template, image, N_object=self.N_object,\n\u001b[0;32m---> 32\u001b[0;31m                                  method=self.method, maxOverlap=self.maxOverlap)\n\u001b[0m\u001b[1;32m     33\u001b[0m             \u001b[0mHits\u001b[0m \u001b[0;34m=\u001b[0m \u001b[0mHits\u001b[0m\u001b[0;34m.\u001b[0m\u001b[0mappend\u001b[0m\u001b[0;34m(\u001b[0m\u001b[0mHit\u001b[0m\u001b[0;34m)\u001b[0m\u001b[0;34m\u001b[0m\u001b[0;34m\u001b[0m\u001b[0m\n\u001b[1;32m     34\u001b[0m \u001b[0;34m\u001b[0m\u001b[0m\n",
      "\u001b[0;32m~/anaconda3/envs/truchlp/lib/python3.7/site-packages/MTM/__init__.py\u001b[0m in \u001b[0;36mmatchTemplates\u001b[0;34m(listTemplates, image, method, N_object, score_threshold, maxOverlap, searchBox)\u001b[0m\n\u001b[1;32m    225\u001b[0m         \u001b[0;32mraise\u001b[0m \u001b[0mValueError\u001b[0m\u001b[0;34m(\u001b[0m\u001b[0;34m\"Maximal overlap between bounding box is in range [0-1]\"\u001b[0m\u001b[0;34m)\u001b[0m\u001b[0;34m\u001b[0m\u001b[0;34m\u001b[0m\u001b[0m\n\u001b[1;32m    226\u001b[0m \u001b[0;34m\u001b[0m\u001b[0m\n\u001b[0;32m--> 227\u001b[0;31m     \u001b[0mtableHit\u001b[0m \u001b[0;34m=\u001b[0m \u001b[0mfindMatches\u001b[0m\u001b[0;34m(\u001b[0m\u001b[0mlistTemplates\u001b[0m\u001b[0;34m,\u001b[0m \u001b[0mimage\u001b[0m\u001b[0;34m,\u001b[0m \u001b[0mmethod\u001b[0m\u001b[0;34m,\u001b[0m \u001b[0mN_object\u001b[0m\u001b[0;34m,\u001b[0m \u001b[0mscore_threshold\u001b[0m\u001b[0;34m,\u001b[0m \u001b[0msearchBox\u001b[0m\u001b[0;34m)\u001b[0m\u001b[0;34m\u001b[0m\u001b[0;34m\u001b[0m\u001b[0m\n\u001b[0m\u001b[1;32m    228\u001b[0m \u001b[0;34m\u001b[0m\u001b[0m\n\u001b[1;32m    229\u001b[0m     \u001b[0;32mif\u001b[0m \u001b[0mmethod\u001b[0m \u001b[0;34m==\u001b[0m \u001b[0;36m0\u001b[0m\u001b[0;34m:\u001b[0m \u001b[0;32mraise\u001b[0m \u001b[0mValueError\u001b[0m\u001b[0;34m(\u001b[0m\u001b[0;34m\"The method TM_SQDIFF is not supported. Use TM_SQDIFF_NORMED instead.\"\u001b[0m\u001b[0;34m)\u001b[0m\u001b[0;34m\u001b[0m\u001b[0;34m\u001b[0m\u001b[0m\n",
      "\u001b[0;32m~/anaconda3/envs/truchlp/lib/python3.7/site-packages/MTM/__init__.py\u001b[0m in \u001b[0;36mfindMatches\u001b[0;34m(listTemplates, image, method, N_object, score_threshold, searchBox)\u001b[0m\n\u001b[1;32m    141\u001b[0m \u001b[0;34m\u001b[0m\u001b[0m\n\u001b[1;32m    142\u001b[0m         \u001b[0;31m#print('\\nSearch with template : ',templateName)\u001b[0m\u001b[0;34m\u001b[0m\u001b[0;34m\u001b[0m\u001b[0;34m\u001b[0m\u001b[0m\n\u001b[0;32m--> 143\u001b[0;31m         \u001b[0mcorrMap\u001b[0m \u001b[0;34m=\u001b[0m \u001b[0mcomputeScoreMap\u001b[0m\u001b[0;34m(\u001b[0m\u001b[0mtemplate\u001b[0m\u001b[0;34m,\u001b[0m \u001b[0mimage\u001b[0m\u001b[0;34m,\u001b[0m \u001b[0mmethod\u001b[0m\u001b[0;34m,\u001b[0m \u001b[0mmask\u001b[0m\u001b[0;34m=\u001b[0m\u001b[0mmask\u001b[0m\u001b[0;34m)\u001b[0m\u001b[0;34m\u001b[0m\u001b[0;34m\u001b[0m\u001b[0m\n\u001b[0m\u001b[1;32m    144\u001b[0m \u001b[0;34m\u001b[0m\u001b[0m\n\u001b[1;32m    145\u001b[0m         \u001b[0;31m## Find possible location of the object\u001b[0m\u001b[0;34m\u001b[0m\u001b[0;34m\u001b[0m\u001b[0;34m\u001b[0m\u001b[0m\n",
      "\u001b[0;32m~/anaconda3/envs/truchlp/lib/python3.7/site-packages/MTM/__init__.py\u001b[0m in \u001b[0;36mcomputeScoreMap\u001b[0;34m(template, image, method, mask)\u001b[0m\n\u001b[1;32m     56\u001b[0m     \u001b[0mscore\u001b[0m \u001b[0mmap\u001b[0m \u001b[0;32mas\u001b[0m \u001b[0mnumpy\u001b[0m \u001b[0marray\u001b[0m\u001b[0;34m\u001b[0m\u001b[0;34m\u001b[0m\u001b[0m\n\u001b[1;32m     57\u001b[0m     \"\"\"\n\u001b[0;32m---> 58\u001b[0;31m     \u001b[0;32mif\u001b[0m \u001b[0mtemplate\u001b[0m\u001b[0;34m.\u001b[0m\u001b[0mdtype\u001b[0m \u001b[0;34m==\u001b[0m \u001b[0;34m\"float64\"\u001b[0m \u001b[0;32mor\u001b[0m \u001b[0mimage\u001b[0m\u001b[0;34m.\u001b[0m\u001b[0mdtype\u001b[0m \u001b[0;34m==\u001b[0m \u001b[0;34m\"float64\"\u001b[0m\u001b[0;34m:\u001b[0m\u001b[0;34m\u001b[0m\u001b[0;34m\u001b[0m\u001b[0m\n\u001b[0m\u001b[1;32m     59\u001b[0m         \u001b[0;32mraise\u001b[0m \u001b[0mValueError\u001b[0m\u001b[0;34m(\u001b[0m\u001b[0;34m\"64-bit images not supported, max 32-bit\"\u001b[0m\u001b[0;34m)\u001b[0m\u001b[0;34m\u001b[0m\u001b[0;34m\u001b[0m\u001b[0m\n\u001b[1;32m     60\u001b[0m \u001b[0;34m\u001b[0m\u001b[0m\n",
      "\u001b[0;31mAttributeError\u001b[0m: 'NoneType' object has no attribute 'dtype'"
     ]
    }
   ],
   "source": [
    "for idx, image_path in enumerate(image_paths):\n",
    "#     if idx == 10:\n",
    "#         break\n",
    "    print(image_path)\n",
    "    print('**' * 20)\n",
    "    image = cv2.imread(str(image_path))\n",
    "    Hit = matcher(image)\n",
    "    print(Hit)\n",
    "    Overlay = drawBoxesOnRGB(image, Hit, showLabel=True)\n",
    "    cv2.imwrite(str(Path(output_dir, image_path.name)), Overlay)"
   ]
  },
  {
   "cell_type": "code",
   "execution_count": null,
   "id": "7f3c5449",
   "metadata": {},
   "outputs": [],
   "source": []
  }
 ],
 "metadata": {
  "kernelspec": {
   "display_name": "Python 3",
   "language": "python",
   "name": "python3"
  },
  "language_info": {
   "codemirror_mode": {
    "name": "ipython",
    "version": 3
   },
   "file_extension": ".py",
   "mimetype": "text/x-python",
   "name": "python",
   "nbconvert_exporter": "python",
   "pygments_lexer": "ipython3",
   "version": "3.7.9"
  }
 },
 "nbformat": 4,
 "nbformat_minor": 5
}
