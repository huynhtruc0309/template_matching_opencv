{
 "cells": [
  {
   "cell_type": "code",
   "execution_count": 24,
   "id": "included-antigua",
   "metadata": {},
   "outputs": [],
   "source": [
    "import cv2, json\n",
    "import glob\n",
    "import matplotlib.pyplot as plt\n",
    "import numpy as np\n",
    "from pathlib import Path\n",
    "\n",
    "for img_pth in Path('/home/huynhtruc0309/Desktop/TEMPLATE_MATCHING/total/2_CPP_Page2/samples').glob('*.jpg'):\n",
    "    json_pth = str(img_pth).replace('.jpg', '.json')\n",
    "    if Path(json_pth).is_file():\n",
    "        # read img\n",
    "        img = cv2.imread(str(img_pth))\n",
    "        # read json file\n",
    "        with open(json_pth) as json_file:\n",
    "            data = json.load(json_file)\n",
    "            for shape in data['shapes']:\n",
    "                if shape['label'] == '16':\n",
    "                    # create output dir\n",
    "                    out_dir = Path(img_pth.parents[1], 'templates', shape['label'])\n",
    "                    out_dir.mkdir(parents=True, exist_ok=True)\n",
    "                    out_img_pth = Path(out_dir, img_pth.name)\n",
    "                    # read rect points\n",
    "                    points = np.asarray(shape['points'], dtype=int)\n",
    "                    x1, y1 = points.min(axis=0)\n",
    "                    x2, y2 = points.max(axis=0)\n",
    "                    cv2.imwrite(str(out_img_pth), img[y1:y2, x1:x2])"
   ]
  },
  {
   "cell_type": "code",
   "execution_count": 21,
   "id": "governmental-wallpaper",
   "metadata": {},
   "outputs": [
    {
     "ename": "KeyboardInterrupt",
     "evalue": "",
     "output_type": "error",
     "traceback": [
      "\u001b[0;31m---------------------------------------------------------------------------\u001b[0m",
      "\u001b[0;31mKeyboardInterrupt\u001b[0m                         Traceback (most recent call last)",
      "\u001b[0;32m<ipython-input-21-8881d40b6b82>\u001b[0m in \u001b[0;36m<module>\u001b[0;34m\u001b[0m\n\u001b[1;32m      6\u001b[0m     \u001b[0;32mif\u001b[0m \u001b[0mPath\u001b[0m\u001b[0;34m(\u001b[0m\u001b[0mjson_pth\u001b[0m\u001b[0;34m)\u001b[0m\u001b[0;34m.\u001b[0m\u001b[0mis_file\u001b[0m\u001b[0;34m(\u001b[0m\u001b[0;34m)\u001b[0m\u001b[0;34m:\u001b[0m\u001b[0;34m\u001b[0m\u001b[0;34m\u001b[0m\u001b[0m\n\u001b[1;32m      7\u001b[0m         \u001b[0;31m# read img\u001b[0m\u001b[0;34m\u001b[0m\u001b[0;34m\u001b[0m\u001b[0;34m\u001b[0m\u001b[0m\n\u001b[0;32m----> 8\u001b[0;31m         \u001b[0mimg\u001b[0m \u001b[0;34m=\u001b[0m \u001b[0mcv2\u001b[0m\u001b[0;34m.\u001b[0m\u001b[0mimread\u001b[0m\u001b[0;34m(\u001b[0m\u001b[0mstr\u001b[0m\u001b[0;34m(\u001b[0m\u001b[0mimg_pth\u001b[0m\u001b[0;34m)\u001b[0m\u001b[0;34m)\u001b[0m\u001b[0;34m\u001b[0m\u001b[0;34m\u001b[0m\u001b[0m\n\u001b[0m\u001b[1;32m      9\u001b[0m         \u001b[0msam_dir\u001b[0m \u001b[0;34m=\u001b[0m \u001b[0mPath\u001b[0m\u001b[0;34m(\u001b[0m\u001b[0mimg_pth\u001b[0m\u001b[0;34m.\u001b[0m\u001b[0mparents\u001b[0m\u001b[0;34m[\u001b[0m\u001b[0;36m0\u001b[0m\u001b[0;34m]\u001b[0m\u001b[0;34m,\u001b[0m \u001b[0;34m'samples'\u001b[0m\u001b[0;34m)\u001b[0m\u001b[0;34m\u001b[0m\u001b[0;34m\u001b[0m\u001b[0m\n\u001b[1;32m     10\u001b[0m         \u001b[0msam_dir\u001b[0m\u001b[0;34m.\u001b[0m\u001b[0mmkdir\u001b[0m\u001b[0;34m(\u001b[0m\u001b[0mparents\u001b[0m\u001b[0;34m=\u001b[0m\u001b[0;32mTrue\u001b[0m\u001b[0;34m,\u001b[0m \u001b[0mexist_ok\u001b[0m\u001b[0;34m=\u001b[0m\u001b[0;32mTrue\u001b[0m\u001b[0;34m)\u001b[0m\u001b[0;34m\u001b[0m\u001b[0;34m\u001b[0m\u001b[0m\n",
      "\u001b[0;31mKeyboardInterrupt\u001b[0m: "
     ]
    }
   ],
   "source": [
    "root = '/media/huynhtruc0309/DATA/vtcc/SUBTASK/TEMPLATE_MATCHING/GD2/1. CPP/85_Switzerland_equal/total'\n",
    "folder = \"2_CPP_Page2\"\n",
    "\n",
    "for img_pth in Path(root, folder).glob('*.jpg'):\n",
    "    json_pth = str(img_pth).replace('.jpg', '.json')\n",
    "    if Path(json_pth).is_file():\n",
    "        # read img\n",
    "        img = cv2.imread(str(img_pth))\n",
    "        sam_dir = Path(img_pth.parents[0], 'samples')\n",
    "        sam_dir.mkdir(parents=True, exist_ok=True)\n",
    "        sam_dir = Path(sam_dir, img_pth.name)\n",
    "        cv2.imwrite(str(sam_dir), img)\n",
    "        # read json file\n",
    "        with open(json_pth) as json_file:\n",
    "            data = json.load(json_file)\n",
    "            for shape in data['shapes']:\n",
    "                # create output dir\n",
    "                out_dir = Path(img_pth.parents[0], 'templates', shape['label'])\n",
    "                out_dir.mkdir(parents=True, exist_ok=True)\n",
    "                out_img_pth = Path(out_dir, img_pth.name)\n",
    "                # read rect points\n",
    "                points = np.asarray(shape['points'], dtype=int)\n",
    "                x1, y1 = points.min(axis=0)\n",
    "                x2, y2 = points.max(axis=0)\n",
    "                cv2.imwrite(str(out_img_pth), img[y1:y2, x1:x2])"
   ]
  },
  {
   "cell_type": "code",
   "execution_count": null,
   "id": "young-woman",
   "metadata": {},
   "outputs": [],
   "source": []
  }
 ],
 "metadata": {
  "kernelspec": {
   "display_name": "Python 3",
   "language": "python",
   "name": "python3"
  },
  "language_info": {
   "codemirror_mode": {
    "name": "ipython",
    "version": 3
   },
   "file_extension": ".py",
   "mimetype": "text/x-python",
   "name": "python",
   "nbconvert_exporter": "python",
   "pygments_lexer": "ipython3",
   "version": "3.7.10"
  }
 },
 "nbformat": 4,
 "nbformat_minor": 5
}
