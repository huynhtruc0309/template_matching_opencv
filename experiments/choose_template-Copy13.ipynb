{
 "cells": [
  {
   "cell_type": "code",
   "execution_count": 1,
   "id": "de1d534a",
   "metadata": {},
   "outputs": [],
   "source": [
    "import MTM\n",
    "from MTM import matchTemplates, drawBoxesOnRGB\n",
    "from pathlib import Path\n",
    "import cv2\n",
    "import json\n",
    "import numpy as np"
   ]
  },
  {
   "cell_type": "code",
   "execution_count": 2,
   "id": "09e2268e",
   "metadata": {},
   "outputs": [],
   "source": [
    "template_folder = Path('/media/huynhtruc0309/DATA/vtcc/SUBTASK/TEMPLATE_MATCHING/template_matching_opencv/templates/page_1/24')\n",
    "listTemplate = []\n",
    "for tem_path in template_folder.glob('*.jpg'):\n",
    "    image = cv2.imread(str(tem_path))\n",
    "    template = [(tem_path.name, image)]\n",
    "    listTemplate.append(template)"
   ]
  },
  {
   "cell_type": "code",
   "execution_count": 3,
   "id": "4fb94e6e",
   "metadata": {},
   "outputs": [],
   "source": [
    "def ioa(boxA, boxB):\n",
    "    xA = max(boxA[0], boxB[0])\n",
    "    yA = max(boxA[1], boxB[1])\n",
    "    xB = min(boxA[2], boxB[2])\n",
    "    yB = min(boxA[3], boxB[3])\n",
    " \n",
    "    interArea = max(0, xB - xA + 1) * max(0, yB - yA + 1)\n",
    "    boxAArea = (boxA[2] - boxA[0] + 1) * (boxA[3] - boxA[1] + 1)\n",
    "    \n",
    "    return interArea / float(boxAArea)\n",
    "\n",
    "def calc_acc(json_data, boxes, num_template, intersect=0.8):\n",
    "    acc = 0.0\n",
    "    for shape in json_data['shapes']:\n",
    "        for box in list(boxes[boxes.TemplateName == shape['label']].BBox):\n",
    "            points = np.asarray(shape['points'], dtype=int)\n",
    "            x1, y1 = points.min(axis=0)\n",
    "            x2, y2 = points.max(axis=0)\n",
    "                        \n",
    "            (x, y, w, h) = box\n",
    "            if ioa((x1, y1, x2, y2), (x, y, x + w, y + h)) > intersect:\n",
    "                acc += 1.0\n",
    "                continue\n",
    "    return acc / float(num_template)"
   ]
  },
  {
   "cell_type": "code",
   "execution_count": 4,
   "id": "36f576b7",
   "metadata": {},
   "outputs": [
    {
     "name": "stdout",
     "output_type": "stream",
     "text": [
      "('33020-page1.jpg', 36)\n",
      "('33020-page1.jpg', 36)\n",
      "('1. NN-34241-page1.jpg', 44)\n",
      "('1. NN-34241-page1.jpg', 44)\n",
      "('1. NN-34241-page1.jpg', 44)\n",
      "('1. NN-34241-page1.jpg', 44)\n",
      "('1. NN-34241-page1.jpg', 44)\n",
      "('1. NN-34241-page1.jpg', 44)\n",
      "('1. NN-34241-page1.jpg', 44)\n",
      "('1. NN-34241-page1.jpg', 44)\n",
      "('1. NN-34241-page1.jpg', 44)\n",
      "('1. NN-34241-page1.jpg', 44)\n",
      "('19.NN-33408-page1.jpg', 51)\n",
      "('19.NN-33408-page1.jpg', 51)\n",
      "('19.NN-33408-page1.jpg', 51)\n",
      "('19.NN-33408-page1.jpg', 51)\n",
      "('19.NN-33408-page1.jpg', 51)\n",
      "('19.NN-33408-page1.jpg', 51)\n",
      "('19.NN-33408-page1.jpg', 51)\n",
      "('19.NN-33408-page1.jpg', 51)\n",
      "('26.NN-34592-page1.jpg', 54)\n",
      "('26.NN-34592-page1.jpg', 54)\n",
      "('26.NN-34592-page1.jpg', 54)\n",
      "('26.NN-34592-page1.jpg', 54)\n",
      "('26.NN-34592-page1.jpg', 54)\n",
      "('26.NN-34592-page1.jpg', 54)\n",
      "('26.NN-34592-page1.jpg', 54)\n",
      "('26.NN-34592-page1.jpg', 54)\n",
      "('26.NN-34592-page1.jpg', 54)\n",
      "('26.NN-34592-page1.jpg', 54)\n",
      "('26.NN-34592-page1.jpg', 54)\n",
      "('26.NN-34592-page1.jpg', 54)\n",
      "('26.NN-34592-page1.jpg', 54)\n",
      "('26.NN-34592-page1.jpg', 54)\n",
      "('26.NN-34592-page1.jpg', 54)\n",
      "('26.NN-34592-page1.jpg', 54)\n",
      "('26.NN-34592-page1.jpg', 54)\n",
      "('26.NN-34592-page1.jpg', 54)\n",
      "('26.NN-34592-page1.jpg', 54)\n",
      "('26.NN-34592-page1.jpg', 54)\n",
      "('26.NN-34592-page1.jpg', 54)\n",
      "('26.NN-34592-page1.jpg', 54)\n",
      "('26.NN-34592-page1.jpg', 54)\n",
      "('26.NN-34592-page1.jpg', 54)\n",
      "('26.NN-34592-page1.jpg', 54)\n",
      "('26.NN-34592-page1.jpg', 54)\n",
      "('26.NN-34592-page1.jpg', 54)\n",
      "('26.NN-34592-page1.jpg', 54)\n",
      "('26.NN-34592-page1.jpg', 54)\n",
      "('26.NN-34592-page1.jpg', 54)\n",
      "('26.NN-34592-page1.jpg', 54)\n",
      "('26.NN-34592-page1.jpg', 54)\n",
      "('26.NN-34592-page1.jpg', 54)\n",
      "('26.NN-34592-page1.jpg', 54)\n",
      "('26.NN-34592-page1.jpg', 54)\n",
      "('26.NN-34592-page1.jpg', 54)\n",
      "('26.NN-34592-page1.jpg', 54)\n",
      "('26.NN-34592-page1.jpg', 54)\n",
      "('26.NN-34592-page1.jpg', 54)\n",
      "('26.NN-34592-page1.jpg', 54)\n",
      "('35.NN-34242-page1.jpg', 57)\n",
      "('35.NN-34242-page1.jpg', 57)\n",
      "('35.NN-34242-page1.jpg', 57)\n",
      "('35.NN-34242-page1.jpg', 57)\n",
      "('35.NN-34242-page1.jpg', 57)\n",
      "('35.NN-34242-page1.jpg', 57)\n",
      "('35.NN-34242-page1.jpg', 57)\n",
      "('35.NN-34242-page1.jpg', 57)\n",
      "('35.NN-34242-page1.jpg', 57)\n",
      "('35.NN-34242-page1.jpg', 57)\n",
      "('35.NN-34242-page1.jpg', 57)\n",
      "('35.NN-34242-page1.jpg', 57)\n",
      "('35.NN-34242-page1.jpg', 57)\n",
      "('35.NN-34242-page1.jpg', 57)\n",
      "('35.NN-34242-page1.jpg', 57)\n",
      "('35.NN-34242-page1.jpg', 57)\n",
      "('35.NN-34242-page1.jpg', 57)\n",
      "('35.NN-34242-page1.jpg', 57)\n",
      "('35.NN-34242-page1.jpg', 57)\n",
      "('35.NN-34242-page1.jpg', 57)\n",
      "('35.NN-34242-page1.jpg', 57)\n",
      "('35.NN-34242-page1.jpg', 57)\n",
      "('35.NN-34242-page1.jpg', 57)\n",
      "('35.NN-34242-page1.jpg', 57)\n",
      "('35.NN-34242-page1.jpg', 57)\n"
     ]
    }
   ],
   "source": [
    "img_folder = Path('/media/huynhtruc0309/DATA/vtcc/SUBTASK/TEMPLATE_MATCHING/GD2/1. CPP/85_Switzerland_equal/total/1_CPP_Page1')\n",
    "\n",
    "bestTemplate = None\n",
    "for template in listTemplate:\n",
    "    acc = 0\n",
    "    for i, img_path in enumerate(img_folder.glob('*.jpg')):\n",
    "        image = cv2.imread(str(img_path))\n",
    "\n",
    "        Hit = matchTemplates(template, image, N_object=1,\n",
    "                                 method=5, maxOverlap=0.8)\n",
    "        (x, y, w, h) = Hit.BBox.values[0]\n",
    "        json_pth = str(img_path).replace('jpg', 'json')\n",
    "        \n",
    "        with open(json_pth) as json_file:\n",
    "            json_data = json.load(json_file)\n",
    "            for shape in json_data['shapes']:\n",
    "                if shape['label'] == '24':\n",
    "                    points = np.asarray(shape['points'], dtype=int)\n",
    "                    x1, y1 = points.min(axis=0)\n",
    "                    x2, y2 = points.max(axis=0)\n",
    "                    if ioa((x1, y1, x2, y2), (x, y, x + w, y + h)) > 0.5:\n",
    "                        acc += 1\n",
    "                \n",
    "    if bestTemplate == None or acc > bestTemplate[1]:\n",
    "        bestTemplate = (template[0][0], acc)\n",
    "        \n",
    "    print(bestTemplate)"
   ]
  },
  {
   "cell_type": "code",
   "execution_count": 52,
   "id": "0951a053",
   "metadata": {},
   "outputs": [
    {
     "data": {
      "text/plain": [
       "array([(393, 1201, 1109, 44)], dtype=object)"
      ]
     },
     "execution_count": 52,
     "metadata": {},
     "output_type": "execute_result"
    }
   ],
   "source": [
    "Hit.BBox.values"
   ]
  },
  {
   "cell_type": "code",
   "execution_count": 64,
   "id": "0851ac01",
   "metadata": {},
   "outputs": [],
   "source": [
    "bestTemplate = (None, None)"
   ]
  },
  {
   "cell_type": "code",
   "execution_count": 66,
   "id": "530396a4",
   "metadata": {},
   "outputs": [
    {
     "name": "stdout",
     "output_type": "stream",
     "text": [
      "None\n"
     ]
    }
   ],
   "source": [
    "print(bestTemplate[1])"
   ]
  },
  {
   "cell_type": "code",
   "execution_count": null,
   "id": "515a40c5",
   "metadata": {},
   "outputs": [],
   "source": []
  }
 ],
 "metadata": {
  "kernelspec": {
   "display_name": "Python 3",
   "language": "python",
   "name": "python3"
  },
  "language_info": {
   "codemirror_mode": {
    "name": "ipython",
    "version": 3
   },
   "file_extension": ".py",
   "mimetype": "text/x-python",
   "name": "python",
   "nbconvert_exporter": "python",
   "pygments_lexer": "ipython3",
   "version": "3.7.9"
  }
 },
 "nbformat": 4,
 "nbformat_minor": 5
}
